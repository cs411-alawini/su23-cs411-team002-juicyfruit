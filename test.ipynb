{
 "cells": [
  {
   "cell_type": "code",
   "execution_count": 5,
   "metadata": {},
   "outputs": [
    {
     "data": {
      "text/plain": [
       "'<table border=\"1\" class=\"dataframe\">\\n  <thead>\\n    <tr style=\"text-align: right;\">\\n      <th></th>\\n      <th>Game Name</th>\\n      <th>Metacritic Rating</th>\\n      <th>Average Review Score</th>\\n    </tr>\\n  </thead>\\n  <tbody>\\n    <tr>\\n      <th>0</th>\\n      <td>1... 2... 3... KICK IT! (Drop That Beat Like an Ugly Baby)</td>\\n      <td>0</td>\\n      <td>1.00</td>\\n    </tr>\\n    <tr>\\n      <th>1</th>\\n      <td>100% Orange Juice</td>\\n      <td>0</td>\\n      <td>0.94</td>\\n    </tr>\\n    <tr>\\n      <th>2</th>\\n      <td>12 Labours of Hercules</td>\\n      <td>0</td>\\n      <td>1.00</td>\\n    </tr>\\n    <tr>\\n      <th>3</th>\\n      <td>12 Labours of Hercules II: The Cretan Bull</td>\\n      <td>0</td>\\n      <td>0.92</td>\\n    </tr>\\n    <tr>\\n      <th>4</th>\\n      <td>12 Labours of Hercules III: Girl Power</td>\\n      <td>0</td>\\n      <td>1.00</td>\\n    </tr>\\n    <tr>\\n      <th>5</th>\\n      <td>12 Labours of Hercules V: Kids of Hellas</td>\\n      <td>0</td>\\n      <td>0.91</td>\\n    </tr>\\n    <tr>\\n      <th>6</th>\\n      <td>140</td>\\n      <td>80</td>\\n      <td>1.00</td>\\n    </tr>\\n    <tr>\\n      <th>7</th>\\n      <td>18 Wheels of Steel: Across America</td>\\n      <td>0</td>\\n      <td>1.00</td>\\n    </tr>\\n    <tr>\\n      <th>8</th>\\n      <td>1849</td>\\n      <td>0</td>\\n      <td>0.92</td>\\n    </tr>\\n    <tr>\\n      <th>9</th>\\n      <td>20XX</td>\\n      <td>0</td>\\n      <td>0.96</td>\\n    </tr>\\n    <tr>\\n      <th>10</th>\\n      <td>21 Steps to Soul</td>\\n      <td>0</td>\\n      <td>1.00</td>\\n    </tr>\\n    <tr>\\n      <th>11</th>\\n      <td>3030 Deathwar Redux</td>\\n      <td>0</td>\\n      <td>0.93</td>\\n    </tr>\\n    <tr>\\n      <th>12</th>\\n      <td>35MM</td>\\n      <td>0</td>\\n      <td>1.00</td>\\n    </tr>\\n    <tr>\\n      <th>13</th>\\n      <td>3DF Zephyr Lite 2 Steam Edition</td>\\n      <td>0</td>\\n      <td>1.00</td>\\n    </tr>\\n    <tr>\\n      <th>14</th>\\n      <td>3dSunshine</td>\\n      <td>0</td>\\n      <td>1.00</td>\\n    </tr>\\n  </tbody>\\n</table>'"
      ]
     },
     "execution_count": 5,
     "metadata": {},
     "output_type": "execute_result"
    }
   ],
   "source": [
    "import pandas as pd\n",
    "from flask import Flask, render_template, jsonify, redirect, request, url_for, flash\n",
    "from google.cloud.sql.connector import Connector, IPTypes\n",
    "import pymysql\n",
    "import sqlalchemy\n",
    "import time\n",
    "import random\n",
    "\n",
    "\n",
    "connector = Connector()\n",
    "\n",
    "def getconn() -> pymysql.connections.Connection:\n",
    "    conn: pymysql.connections.Connection = connector.connect(\n",
    "        \"cs411-juicyfruit:us-central1:cs411-juicyfruit\",\n",
    "        \"pymysql\",\n",
    "        user=\"root\",\n",
    "        password=\"juicyfruit1234\",\n",
    "        db=\"juicyfruit_db\",\n",
    "    )\n",
    "    return conn\n",
    "\n",
    "pool = sqlalchemy.create_engine(\n",
    "    \"mysql+pymysql://\",\n",
    "    creator=getconn,\n",
    ")\n",
    "\n",
    "connection = pool.raw_connection()\n",
    "\n",
    "cursor = connection.cursor()\n",
    "cursor.callproc(\"RevScoreQuery\", [0.9])\n",
    "\n",
    "tpl = (\"Game Name\", \"Metacritic Rating\", \"Average Review Score\")\n",
    "data = list(cursor.fetchall())\n",
    "connection.commit()\n",
    "\n",
    "\n",
    "df = pd.DataFrame(data, columns=tpl)\n",
    "x = df.to_html()\n",
    "\n",
    "x"
   ]
  }
 ],
 "metadata": {
  "kernelspec": {
   "display_name": "Python 3",
   "language": "python",
   "name": "python3"
  },
  "language_info": {
   "codemirror_mode": {
    "name": "ipython",
    "version": 3
   },
   "file_extension": ".py",
   "mimetype": "text/x-python",
   "name": "python",
   "nbconvert_exporter": "python",
   "pygments_lexer": "ipython3",
   "version": "3.10.7"
  },
  "orig_nbformat": 4
 },
 "nbformat": 4,
 "nbformat_minor": 2
}
